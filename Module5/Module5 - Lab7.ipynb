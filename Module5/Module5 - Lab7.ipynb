{
 "cells": [
  {
   "cell_type": "markdown",
   "metadata": {},
   "source": [
    "# DAT210x - Programming with Python for DS"
   ]
  },
  {
   "cell_type": "markdown",
   "metadata": {},
   "source": [
    "## Module5- Lab7"
   ]
  },
  {
   "cell_type": "code",
   "execution_count": 1,
   "metadata": {},
   "outputs": [],
   "source": [
    "import random, math\n",
    "import pandas as pd\n",
    "import numpy as np\n",
    "import scipy.io\n",
    "\n",
    "from mpl_toolkits.mplot3d import Axes3D\n",
    "import matplotlib.pyplot as plt\n",
    "\n",
    "plt.style.use('ggplot') # Look Pretty\n",
    "\n",
    "\n",
    "# Leave this alone until indicated:\n",
    "Test_PCA = False"
   ]
  },
  {
   "cell_type": "markdown",
   "metadata": {},
   "source": [
    "### A Convenience Function"
   ]
  },
  {
   "cell_type": "markdown",
   "metadata": {},
   "source": [
    "This method is for your visualization convenience only. You aren't expected to know how to put this together yourself, although you should be able to follow the code by now:"
   ]
  },
  {
   "cell_type": "code",
   "execution_count": 2,
   "metadata": {},
   "outputs": [],
   "source": [
    "def plotDecisionBoundary(model, X, y):\n",
    "    print(\"Plotting...\")\n",
    "\n",
    "    fig = plt.figure()\n",
    "    ax = fig.add_subplot(111)\n",
    "\n",
    "    padding = 0.1\n",
    "    resolution = 0.1\n",
    "\n",
    "    #(2 for benign, 4 for malignant)\n",
    "    colors = {2:'royalblue', 4:'lightsalmon'} \n",
    "\n",
    "\n",
    "    # Calculate the boundaris\n",
    "    x_min, x_max = X[:, 0].min(), X[:, 0].max()\n",
    "    y_min, y_max = X[:, 1].min(), X[:, 1].max()\n",
    "    x_range = x_max - x_min\n",
    "    y_range = y_max - y_min\n",
    "    x_min -= x_range * padding\n",
    "    y_min -= y_range * padding\n",
    "    x_max += x_range * padding\n",
    "    y_max += y_range * padding\n",
    "\n",
    "    # Create a 2D Grid Matrix. The values stored in the matrix\n",
    "    # are the predictions of the class at at said location\n",
    "    xx, yy = np.meshgrid(np.arange(x_min, x_max, resolution),\n",
    "                         np.arange(y_min, y_max, resolution))\n",
    "\n",
    "    # What class does the classifier say?\n",
    "    Z = model.predict(np.c_[xx.ravel(), yy.ravel()])\n",
    "    Z = Z.reshape(xx.shape)\n",
    "\n",
    "    # Plot the contour map\n",
    "    plt.contourf(xx, yy, Z, cmap=plt.cm.seismic)\n",
    "    plt.axis('tight')\n",
    "\n",
    "    # Plot your testing points as well...\n",
    "    for label in np.unique(y):\n",
    "        indices = np.where(y == label)\n",
    "        plt.scatter(X[indices, 0], X[indices, 1], c=colors[label], alpha=0.8)\n",
    "\n",
    "    p = model.get_params()\n",
    "    plt.title('K = ' + str(p['n_neighbors']))\n",
    "    plt.show()"
   ]
  },
  {
   "cell_type": "markdown",
   "metadata": {
    "collapsed": true
   },
   "source": [
    "### The Assignment"
   ]
  },
  {
   "cell_type": "markdown",
   "metadata": {
    "collapsed": true
   },
   "source": [
    "Load in the dataset, identify nans, and set proper headers. Be sure to verify the rows line up by looking at the file in a text editor."
   ]
  },
  {
   "cell_type": "code",
   "execution_count": 3,
   "metadata": {},
   "outputs": [
    {
     "name": "stdout",
     "output_type": "stream",
     "text": [
      "        sample  thickness  size  shape  adhesion  epithelial  nuclei  \\\n",
      "0    1000025.0        5.0   1.0    1.0       1.0         2.0     1.0   \n",
      "1    1002945.0        5.0   4.0    4.0       5.0         7.0    10.0   \n",
      "2    1015425.0        3.0   1.0    1.0       1.0         2.0     2.0   \n",
      "3    1016277.0        6.0   8.0    8.0       1.0         3.0     4.0   \n",
      "4    1017023.0        4.0   1.0    1.0       3.0         2.0     1.0   \n",
      "5    1017122.0        8.0  10.0   10.0       8.0         7.0    10.0   \n",
      "6    1018099.0        1.0   1.0    1.0       1.0         2.0    10.0   \n",
      "7    1018561.0        2.0   1.0    2.0       1.0         2.0     1.0   \n",
      "8    1033078.0        2.0   1.0    1.0       1.0         2.0     1.0   \n",
      "9    1033078.0        4.0   2.0    1.0       1.0         2.0     1.0   \n",
      "10   1035283.0        1.0   1.0    1.0       1.0         1.0     1.0   \n",
      "11   1036172.0        2.0   1.0    1.0       1.0         2.0     1.0   \n",
      "12   1041801.0        5.0   3.0    3.0       3.0         2.0     3.0   \n",
      "13   1043999.0        1.0   1.0    1.0       1.0         2.0     3.0   \n",
      "14   1044572.0        8.0   7.0    5.0      10.0         7.0     9.0   \n",
      "15   1047630.0        7.0   4.0    6.0       4.0         6.0     1.0   \n",
      "16   1048672.0        4.0   1.0    1.0       1.0         2.0     1.0   \n",
      "17   1049815.0        4.0   1.0    1.0       1.0         2.0     1.0   \n",
      "18   1050670.0       10.0   7.0    7.0       6.0         4.0    10.0   \n",
      "19   1050718.0        6.0   1.0    1.0       1.0         2.0     1.0   \n",
      "20   1054590.0        7.0   3.0    2.0      10.0         5.0    10.0   \n",
      "21   1054593.0       10.0   5.0    5.0       3.0         6.0     7.0   \n",
      "22   1056784.0        3.0   1.0    1.0       1.0         2.0     1.0   \n",
      "23   1057013.0        8.0   4.0    5.0       1.0         2.0     7.0   \n",
      "24   1059552.0        1.0   1.0    1.0       1.0         2.0     1.0   \n",
      "25   1065726.0        5.0   2.0    3.0       4.0         2.0     7.0   \n",
      "26   1066373.0        3.0   2.0    1.0       1.0         1.0     1.0   \n",
      "27   1066979.0        5.0   1.0    1.0       1.0         2.0     1.0   \n",
      "28   1067444.0        2.0   1.0    1.0       1.0         2.0     1.0   \n",
      "29   1070935.0        1.0   1.0    3.0       1.0         2.0     1.0   \n",
      "..         ...        ...   ...    ...       ...         ...     ...   \n",
      "669  1350423.0        5.0  10.0   10.0       8.0         5.0     5.0   \n",
      "670  1352848.0        3.0  10.0    7.0       8.0         5.0     8.0   \n",
      "671  1353092.0        3.0   2.0    1.0       2.0         2.0     1.0   \n",
      "672  1354840.0        2.0   1.0    1.0       1.0         2.0     1.0   \n",
      "673  1354840.0        5.0   3.0    2.0       1.0         3.0     1.0   \n",
      "674  1355260.0        1.0   1.0    1.0       1.0         2.0     1.0   \n",
      "675  1365075.0        4.0   1.0    4.0       1.0         2.0     1.0   \n",
      "676  1365328.0        1.0   1.0    2.0       1.0         2.0     1.0   \n",
      "677  1368267.0        5.0   1.0    1.0       1.0         2.0     1.0   \n",
      "678  1368273.0        1.0   1.0    1.0       1.0         2.0     1.0   \n",
      "679  1368882.0        2.0   1.0    1.0       1.0         2.0     1.0   \n",
      "680  1369821.0       10.0  10.0   10.0      10.0         5.0    10.0   \n",
      "681  1371026.0        5.0  10.0   10.0      10.0         4.0    10.0   \n",
      "682  1371920.0        5.0   1.0    1.0       1.0         2.0     1.0   \n",
      "683   466906.0        1.0   1.0    1.0       1.0         2.0     1.0   \n",
      "684   466906.0        1.0   1.0    1.0       1.0         2.0     1.0   \n",
      "685   534555.0        1.0   1.0    1.0       1.0         2.0     1.0   \n",
      "686   536708.0        1.0   1.0    1.0       1.0         2.0     1.0   \n",
      "687   566346.0        3.0   1.0    1.0       1.0         2.0     1.0   \n",
      "688   603148.0        4.0   1.0    1.0       1.0         2.0     1.0   \n",
      "689   654546.0        1.0   1.0    1.0       1.0         2.0     1.0   \n",
      "690   654546.0        1.0   1.0    1.0       3.0         2.0     1.0   \n",
      "691   695091.0        5.0  10.0   10.0       5.0         4.0     5.0   \n",
      "692   714039.0        3.0   1.0    1.0       1.0         2.0     1.0   \n",
      "693   763235.0        3.0   1.0    1.0       1.0         2.0     1.0   \n",
      "694   776715.0        3.0   1.0    1.0       1.0         3.0     2.0   \n",
      "695   841769.0        2.0   1.0    1.0       1.0         2.0     1.0   \n",
      "696   888820.0        5.0  10.0   10.0       3.0         7.0     3.0   \n",
      "697   897471.0        4.0   8.0    6.0       4.0         3.0     4.0   \n",
      "698   897471.0        4.0   8.0    8.0       5.0         4.0     5.0   \n",
      "\n",
      "     chromatin  nucleoli  mitoses  status  \n",
      "0          3.0       1.0      1.0     2.0  \n",
      "1          3.0       2.0      1.0     2.0  \n",
      "2          3.0       1.0      1.0     2.0  \n",
      "3          3.0       7.0      1.0     2.0  \n",
      "4          3.0       1.0      1.0     2.0  \n",
      "5          9.0       7.0      1.0     4.0  \n",
      "6          3.0       1.0      1.0     2.0  \n",
      "7          3.0       1.0      1.0     2.0  \n",
      "8          1.0       1.0      5.0     2.0  \n",
      "9          2.0       1.0      1.0     2.0  \n",
      "10         3.0       1.0      1.0     2.0  \n",
      "11         2.0       1.0      1.0     2.0  \n",
      "12         4.0       4.0      1.0     4.0  \n",
      "13         3.0       1.0      1.0     2.0  \n",
      "14         5.0       5.0      4.0     4.0  \n",
      "15         4.0       3.0      1.0     4.0  \n",
      "16         2.0       1.0      1.0     2.0  \n",
      "17         3.0       1.0      1.0     2.0  \n",
      "18         4.0       1.0      2.0     4.0  \n",
      "19         3.0       1.0      1.0     2.0  \n",
      "20         5.0       4.0      4.0     4.0  \n",
      "21         7.0      10.0      1.0     4.0  \n",
      "22         2.0       1.0      1.0     2.0  \n",
      "23         7.0       3.0      1.0     4.0  \n",
      "24         3.0       1.0      1.0     2.0  \n",
      "25         3.0       6.0      1.0     4.0  \n",
      "26         2.0       1.0      1.0     2.0  \n",
      "27         2.0       1.0      1.0     2.0  \n",
      "28         2.0       1.0      1.0     2.0  \n",
      "29         1.0       1.0      1.0     2.0  \n",
      "..         ...       ...      ...     ...  \n",
      "669        7.0      10.0      1.0     4.0  \n",
      "670        7.0       4.0      1.0     4.0  \n",
      "671        3.0       1.0      1.0     2.0  \n",
      "672        3.0       1.0      1.0     2.0  \n",
      "673        1.0       1.0      1.0     2.0  \n",
      "674        2.0       1.0      1.0     2.0  \n",
      "675        1.0       1.0      1.0     2.0  \n",
      "676        2.0       1.0      1.0     2.0  \n",
      "677        1.0       1.0      1.0     2.0  \n",
      "678        1.0       1.0      1.0     2.0  \n",
      "679        1.0       1.0      1.0     2.0  \n",
      "680       10.0      10.0      7.0     4.0  \n",
      "681        5.0       6.0      3.0     4.0  \n",
      "682        3.0       2.0      1.0     2.0  \n",
      "683        1.0       1.0      1.0     2.0  \n",
      "684        1.0       1.0      1.0     2.0  \n",
      "685        1.0       1.0      1.0     2.0  \n",
      "686        1.0       1.0      1.0     2.0  \n",
      "687        2.0       3.0      1.0     2.0  \n",
      "688        1.0       1.0      1.0     2.0  \n",
      "689        1.0       1.0      8.0     2.0  \n",
      "690        1.0       1.0      1.0     2.0  \n",
      "691        4.0       4.0      1.0     4.0  \n",
      "692        1.0       1.0      1.0     2.0  \n",
      "693        2.0       1.0      2.0     2.0  \n",
      "694        1.0       1.0      1.0     2.0  \n",
      "695        1.0       1.0      1.0     2.0  \n",
      "696        8.0      10.0      2.0     4.0  \n",
      "697       10.0       6.0      1.0     4.0  \n",
      "698       10.0       4.0      1.0     4.0  \n",
      "\n",
      "[699 rows x 11 columns]\n"
     ]
    }
   ],
   "source": [
    "X = pd.read_csv('Datasets/breast-cancer-wisconsin.data', names = ['sample', 'thickness', 'size', 'shape', 'adhesion', 'epithelial', 'nuclei', 'chromatin', 'nucleoli', 'mitoses', 'status'])\n",
    "\n",
    "X.nuclei = pd.to_numeric(X.nuclei, errors = 'coerce')\n",
    "X = X.fillna(method = 'backfill', axis = 1)\n",
    "print(X)"
   ]
  },
  {
   "cell_type": "markdown",
   "metadata": {},
   "source": [
    "Copy out the status column into a slice, then drop it from the main dataframe. Always verify you properly executed the drop by double checking (printing out the resulting operating)! Many people forget to set the right axis here.\n",
    "\n",
    "If you goofed up on loading the dataset and notice you have a `sample` column, this would be a good place to drop that too if you haven't already."
   ]
  },
  {
   "cell_type": "code",
   "execution_count": 4,
   "metadata": {},
   "outputs": [],
   "source": [
    "y = X.status\n",
    "X.drop(labels = ['sample', 'status'], axis = 1, inplace = True)"
   ]
  },
  {
   "cell_type": "markdown",
   "metadata": {},
   "source": [
    "With the labels safely extracted from the dataset, replace any nan values with the mean feature / column value:"
   ]
  },
  {
   "cell_type": "code",
   "execution_count": 5,
   "metadata": {},
   "outputs": [],
   "source": [
    "from sklearn import preprocessing\n",
    "T = preprocessing.normalize(X)"
   ]
  },
  {
   "cell_type": "markdown",
   "metadata": {},
   "source": [
    "Do train_test_split. Use the same variable names as on the EdX platform in the reading material, but set the random_state=7 for reproducibility, and keep the test_size at 0.5 (50%)."
   ]
  },
  {
   "cell_type": "code",
   "execution_count": 6,
   "metadata": {},
   "outputs": [
    {
     "name": "stderr",
     "output_type": "stream",
     "text": [
      "/anaconda3/lib/python3.6/site-packages/sklearn/cross_validation.py:41: DeprecationWarning: This module was deprecated in version 0.18 in favor of the model_selection module into which all the refactored classes and functions are moved. Also note that the interface of the new CV iterators are different from that of this module. This module will be removed in 0.20.\n",
      "  \"This module will be removed in 0.20.\", DeprecationWarning)\n"
     ]
    }
   ],
   "source": [
    "from sklearn.cross_validation import train_test_split\n",
    "data_train, data_test, label_train, label_test = train_test_split(X, y, test_size = 0.5, random_state = 7)"
   ]
  },
  {
   "cell_type": "markdown",
   "metadata": {},
   "source": [
    "Experiment with the basic SKLearn preprocessing scalers. We know that the features consist of different units mixed in together, so it might be reasonable to assume feature scaling is necessary. Print out a description of the dataset, post transformation. Recall: when you do pre-processing, which portion of the dataset is your model trained upon? Also which portion(s) of your dataset actually get transformed?"
   ]
  },
  {
   "cell_type": "code",
   "execution_count": 7,
   "metadata": {},
   "outputs": [
    {
     "data": {
      "text/plain": [
       "KNeighborsClassifier(algorithm='auto', leaf_size=30, metric='minkowski',\n",
       "           metric_params=None, n_jobs=1, n_neighbors=4, p=2,\n",
       "           weights='distance')"
      ]
     },
     "execution_count": 7,
     "metadata": {},
     "output_type": "execute_result"
    }
   ],
   "source": [
    "from sklearn.neighbors import KNeighborsClassifier\n",
    "knn = KNeighborsClassifier(n_neighbors = 4, weights = 'distance')\n",
    "knn.fit(data_train, label_train)"
   ]
  },
  {
   "cell_type": "markdown",
   "metadata": {},
   "source": [
    "### Dimensionality Reduction"
   ]
  },
  {
   "cell_type": "markdown",
   "metadata": {},
   "source": [
    "PCA and Isomap are your new best friends"
   ]
  },
  {
   "cell_type": "code",
   "execution_count": 9,
   "metadata": {},
   "outputs": [
    {
     "name": "stdout",
     "output_type": "stream",
     "text": [
      "Computing 2D Isomap Manifold\n"
     ]
    },
    {
     "ename": "NameError",
     "evalue": "name 'manifold' is not defined",
     "output_type": "error",
     "traceback": [
      "\u001b[0;31m---------------------------------------------------------------------------\u001b[0m",
      "\u001b[0;31mNameError\u001b[0m                                 Traceback (most recent call last)",
      "\u001b[0;32m<ipython-input-9-71fe7893b88c>\u001b[0m in \u001b[0;36m<module>\u001b[0;34m()\u001b[0m\n\u001b[1;32m     17\u001b[0m     \u001b[0;31m#\u001b[0m\u001b[0;34m\u001b[0m\u001b[0;34m\u001b[0m\u001b[0m\n\u001b[1;32m     18\u001b[0m     \u001b[0;31m# .. your code here ..\u001b[0m\u001b[0;34m\u001b[0m\u001b[0;34m\u001b[0m\u001b[0m\n\u001b[0;32m---> 19\u001b[0;31m     \u001b[0mmodel\u001b[0m \u001b[0;34m=\u001b[0m \u001b[0mmanifold\u001b[0m\u001b[0;34m.\u001b[0m\u001b[0mIsomap\u001b[0m\u001b[0;34m(\u001b[0m\u001b[0mn_neighbors\u001b[0m \u001b[0;34m=\u001b[0m \u001b[0;36m4\u001b[0m\u001b[0;34m,\u001b[0m \u001b[0mn_components\u001b[0m \u001b[0;34m=\u001b[0m \u001b[0;36m2\u001b[0m\u001b[0;34m)\u001b[0m\u001b[0;34m\u001b[0m\u001b[0m\n\u001b[0m",
      "\u001b[0;31mNameError\u001b[0m: name 'manifold' is not defined"
     ]
    }
   ],
   "source": [
    "model = None\n",
    "if Test_PCA:\n",
    "    print(\"Computing 2DPrincipal Components\")\n",
    "    #\n",
    "    # TODO: Implement PCA here. save your model into the variable 'model1'.\n",
    "    # You should reduce down to two dimensions.\n",
    "    #\n",
    "    # .. your code here ..\n",
    "    model = PCA(n_components = 2)   \n",
    "\n",
    "else:\n",
    "    print(\"Computing 2D Isomap Manifold\")\n",
    "    #\n",
    "    # TODO: Implement Isomap here. save your model into the variable 'model1'\n",
    "    # Experiment with K values from 5-10.\n",
    "    # You should reduce down to two dimensions.\n",
    "    #\n",
    "    # .. your code here ..\n",
    "    model = manifold.Isomap(n_neighbors = 4, n_components = 2)"
   ]
  },
  {
   "cell_type": "markdown",
   "metadata": {},
   "source": [
    "Train your model against data_train, then transform both `data_train` and `data_test` using your model. You can save the results right back into the variables themselves."
   ]
  },
  {
   "cell_type": "code",
   "execution_count": 10,
   "metadata": {},
   "outputs": [
    {
     "name": "stdout",
     "output_type": "stream",
     "text": [
      "0.9628571428571429\n"
     ]
    }
   ],
   "source": [
    "print(knn.score(data_test, label_test))"
   ]
  },
  {
   "cell_type": "markdown",
   "metadata": {},
   "source": [
    "Implement and train `KNeighborsClassifier` on your projected 2D training data here. You can name your variable `knmodel`. You can use any `K` value from 1 - 15, so play around with it and see what results you can come up. Your goal is to find a good balance where you aren't too specific (low-K), nor are you too general (high-K). You should also experiment with how changing the weights parameter affects the results."
   ]
  },
  {
   "cell_type": "code",
   "execution_count": null,
   "metadata": {
    "collapsed": true
   },
   "outputs": [],
   "source": [
    "# .. your code here .."
   ]
  },
  {
   "cell_type": "markdown",
   "metadata": {},
   "source": [
    "Be sure to always keep the domain of the problem in mind! It's WAY more important to errantly classify a benign tumor as malignant, and have it removed, than to incorrectly leave a malignant tumor, believing it to be benign, and then having the patient progress in cancer. Since the UDF weights don't give you any class information, the only way to introduce this data into SKLearn's KNN Classifier is by \"baking\" it into your data. For example, randomly reducing the ratio of benign samples compared to malignant samples from the training set."
   ]
  },
  {
   "cell_type": "markdown",
   "metadata": {
    "collapsed": true
   },
   "source": [
    "Calculate and display the accuracy of the testing set:"
   ]
  },
  {
   "cell_type": "code",
   "execution_count": null,
   "metadata": {},
   "outputs": [],
   "source": [
    "# .. your code changes above .."
   ]
  },
  {
   "cell_type": "code",
   "execution_count": null,
   "metadata": {
    "collapsed": true
   },
   "outputs": [],
   "source": [
    "plotDecisionBoundary(knmodel, X_test, y_test)"
   ]
  }
 ],
 "metadata": {
  "anaconda-cloud": {},
  "kernelspec": {
   "display_name": "Python 3",
   "language": "python",
   "name": "python3"
  },
  "language_info": {
   "codemirror_mode": {
    "name": "ipython",
    "version": 3
   },
   "file_extension": ".py",
   "mimetype": "text/x-python",
   "name": "python",
   "nbconvert_exporter": "python",
   "pygments_lexer": "ipython3",
   "version": "3.6.4"
  },
  "toc": {
   "colors": {
    "hover_highlight": "#DAA520",
    "running_highlight": "#FF0000",
    "selected_highlight": "#FFD700"
   },
   "moveMenuLeft": true,
   "nav_menu": {
    "height": "58px",
    "width": "252px"
   },
   "navigate_menu": true,
   "number_sections": true,
   "sideBar": true,
   "threshold": 4,
   "toc_cell": false,
   "toc_section_display": "block",
   "toc_window_display": false,
   "widenNotebook": false
  }
 },
 "nbformat": 4,
 "nbformat_minor": 2
}
